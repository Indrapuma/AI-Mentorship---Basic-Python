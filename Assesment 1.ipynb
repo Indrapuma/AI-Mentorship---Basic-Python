{
 "cells": [
  {
   "cell_type": "code",
   "execution_count": null,
   "metadata": {},
   "outputs": [],
   "source": [
    "#Assesment #1\n",
    "#Nama : Indra Putra Mahayuda"
   ]
  },
  {
   "cell_type": "code",
   "execution_count": 2,
   "metadata": {},
   "outputs": [
    {
     "name": "stdout",
     "output_type": "stream",
     "text": [
      "Siapa namamu : Indra\n",
      "Berapakah umurmu : 19\n",
      "Berapakah tinggimu : 160\n",
      "Nama saya Indra, umur saya 19 tahun dan tinggi saya 160 cm.\n"
     ]
    }
   ],
   "source": [
    "Nama = input(\"Siapa namamu : \")\n",
    "Umur = input(\"Berapakah umurmu : \")\n",
    "Tinggi = input(\"Berapakah tinggimu : \")\n",
    "print(\"Nama saya {}, umur saya {} tahun dan tinggi saya {} cm.\".format(Nama, Umur, Tinggi))"
   ]
  },
  {
   "cell_type": "code",
   "execution_count": 5,
   "metadata": {},
   "outputs": [
    {
     "name": "stdout",
     "output_type": "stream",
     "text": [
      "Berapa panjang jari-jari lingkaran : 10\n",
      "Luas lingkaran dengan jari-jari 10 cm adalah 314.2857142857143 cm².\n"
     ]
    }
   ],
   "source": [
    "pi = 22/7\n",
    "r = int(input(\"Berapa panjang jari-jari lingkaran : \"))\n",
    "luas = pi*r*r\n",
    "print(\"Luas lingkaran dengan jari-jari {} cm adalah {} cm\\u00b2.\".format(r, luas))"
   ]
  },
  {
   "cell_type": "code",
   "execution_count": 10,
   "metadata": {},
   "outputs": [
    {
     "name": "stdout",
     "output_type": "stream",
     "text": [
      "Berapa nilai ujian teorimu : 33\n",
      "Berapa nilai ujian praktekmu : 67\n",
      "Anda harus mengulang ujian teori dan praktek.\n"
     ]
    }
   ],
   "source": [
    "ujian_teori = int(input(\"Berapa nilai ujian teorimu : \"))\n",
    "ujian_praktek = int(input(\"Berapa nilai ujian praktekmu : \"))\n",
    "if (ujian_teori >= 70 and ujian_praktek >= 70):\n",
    "    print(\"Selamat, anda lulus!\")\n",
    "if (ujian_teori >= 70 and ujian_praktek < 70):\n",
    "    print(\"Anda harus mengulang ujian praktek.\")\n",
    "if (ujian_teori < 70 and ujian_praktek >= 70):\n",
    "    print(\"Anda harus mengulang ujian teori.\")\n",
    "if (ujian_teori < 70 and ujian_praktek < 70):\n",
    "    print(\"Anda harus mengulang ujian teori dan praktek.\")"
   ]
  },
  {
   "cell_type": "code",
   "execution_count": null,
   "metadata": {},
   "outputs": [],
   "source": []
  }
 ],
 "metadata": {
  "kernelspec": {
   "display_name": "Python 3",
   "language": "python",
   "name": "python3"
  },
  "language_info": {
   "codemirror_mode": {
    "name": "ipython",
    "version": 3
   },
   "file_extension": ".py",
   "mimetype": "text/x-python",
   "name": "python",
   "nbconvert_exporter": "python",
   "pygments_lexer": "ipython3",
   "version": "3.8.5"
  }
 },
 "nbformat": 4,
 "nbformat_minor": 4
}
