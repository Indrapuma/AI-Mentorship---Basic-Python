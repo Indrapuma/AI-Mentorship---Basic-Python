{
 "cells": [
  {
   "cell_type": "code",
   "execution_count": 3,
   "metadata": {},
   "outputs": [
    {
     "name": "stdout",
     "output_type": "stream",
     "text": [
      "apple\n",
      "banana\n",
      "cherry\n"
     ]
    }
   ],
   "source": [
    "fruits = [\"apple\", \"banana\", \"cherry\"]\n",
    "for x in fruits:\n",
    "    print (x);"
   ]
  },
  {
   "cell_type": "code",
   "execution_count": 6,
   "metadata": {},
   "outputs": [],
   "source": [
    "#range"
   ]
  },
  {
   "cell_type": "code",
   "execution_count": 7,
   "metadata": {},
   "outputs": [
    {
     "name": "stdout",
     "output_type": "stream",
     "text": [
      "0\n",
      "1\n",
      "2\n",
      "3\n"
     ]
    }
   ],
   "source": [
    "for i in range(4):\n",
    "    print(i)"
   ]
  },
  {
   "cell_type": "code",
   "execution_count": 8,
   "metadata": {},
   "outputs": [
    {
     "name": "stdout",
     "output_type": "stream",
     "text": [
      "3\n",
      "4\n",
      "5\n",
      "6\n",
      "7\n",
      "8\n",
      "9\n"
     ]
    }
   ],
   "source": [
    "for i in range (3,10):\n",
    "    print (i)"
   ]
  },
  {
   "cell_type": "code",
   "execution_count": 10,
   "metadata": {},
   "outputs": [
    {
     "name": "stdout",
     "output_type": "stream",
     "text": [
      "2\n",
      "5\n",
      "8\n",
      "11\n",
      "14\n",
      "17\n"
     ]
    }
   ],
   "source": [
    "for y in range(2, 20, 3):\n",
    "    print(y)"
   ]
  },
  {
   "cell_type": "markdown",
   "metadata": {},
   "source": [
    "#Break"
   ]
  },
  {
   "cell_type": "code",
   "execution_count": 13,
   "metadata": {},
   "outputs": [
    {
     "name": "stdout",
     "output_type": "stream",
     "text": [
      "0\n",
      "1\n",
      "2\n"
     ]
    }
   ],
   "source": [
    "for i in range (5):\n",
    "    if i == 3:\n",
    "        break\n",
    "    print(i)"
   ]
  },
  {
   "cell_type": "markdown",
   "metadata": {},
   "source": [
    "Continue"
   ]
  },
  {
   "cell_type": "code",
   "execution_count": 14,
   "metadata": {},
   "outputs": [
    {
     "name": "stdout",
     "output_type": "stream",
     "text": [
      "0\n",
      "1\n",
      "2\n",
      "4\n"
     ]
    }
   ],
   "source": [
    "for i in range (5):\n",
    "    if i == 3:\n",
    "        continue\n",
    "    print (i)"
   ]
  },
  {
   "cell_type": "markdown",
   "metadata": {},
   "source": [
    "# list"
   ]
  },
  {
   "cell_type": "code",
   "execution_count": 16,
   "metadata": {},
   "outputs": [
    {
     "name": "stdout",
     "output_type": "stream",
     "text": [
      "['a', 'b', 'c', 'd', 'e']\n",
      "['b', 'c', 'd', 'e']\n"
     ]
    }
   ],
   "source": [
    "mylist = ['a', 'b', 'c', 'd', 'e']\n",
    "print(mylist)\n",
    "mylist.remove('a')\n",
    "print(mylist)"
   ]
  },
  {
   "cell_type": "markdown",
   "metadata": {},
   "source": [
    "# Nested Loop"
   ]
  },
  {
   "cell_type": "code",
   "execution_count": 21,
   "metadata": {},
   "outputs": [
    {
     "name": "stdout",
     "output_type": "stream",
     "text": [
      "i:0, j:0\n",
      "i:0, j:1\n",
      "i:0, j:2\n",
      "i:0, j:3\n",
      "\n",
      "i:1, j:0\n",
      "i:1, j:1\n",
      "i:1, j:2\n",
      "i:1, j:3\n",
      "\n"
     ]
    }
   ],
   "source": [
    "for i in range(2):\n",
    "    for j in range (4):\n",
    "        print('i:{}, j:{}'.format(i,j))\n",
    "    print()"
   ]
  },
  {
   "cell_type": "code",
   "execution_count": 22,
   "metadata": {},
   "outputs": [
    {
     "name": "stdout",
     "output_type": "stream",
     "text": [
      "i:0, j:0 i:0, j:1 i:0, j:2 \n",
      "i:1, j:0 i:1, j:1 i:1, j:2 \n",
      "i:2, j:0 i:2, j:1 i:2, j:2 \n"
     ]
    }
   ],
   "source": [
    "for i in range(3):\n",
    "    for j in range(3):\n",
    "        print(\"i:{}, j:{}\".format(i, j), end = ' ')\n",
    "    print()"
   ]
  },
  {
   "cell_type": "code",
   "execution_count": 23,
   "metadata": {},
   "outputs": [
    {
     "name": "stdout",
     "output_type": "stream",
     "text": [
      "0.0\n",
      "0.1\n",
      "0.2\n",
      "\n",
      "1.0\n",
      "1.1\n",
      "1.2\n",
      "\n",
      "2.0\n",
      "2.1\n",
      "2.2\n",
      "\n"
     ]
    }
   ],
   "source": [
    "for baris in range(3):\n",
    "    for kolom in range(3):\n",
    "        print(\"{}.{}\".format(baris, kolom))\n",
    "    print()"
   ]
  },
  {
   "cell_type": "code",
   "execution_count": 24,
   "metadata": {},
   "outputs": [
    {
     "name": "stdout",
     "output_type": "stream",
     "text": [
      "1.1\n",
      "1.2\n",
      "1.3\n",
      "\n",
      "2.1\n",
      "2.2\n",
      "2.3\n",
      "\n",
      "3.1\n",
      "3.2\n",
      "3.3\n",
      "\n"
     ]
    }
   ],
   "source": [
    "for baris in range(3):\n",
    "    for kolom in range(3):\n",
    "        print(\"{}.{}\".format(baris+1, kolom+1))\n",
    "    print()"
   ]
  },
  {
   "cell_type": "markdown",
   "metadata": {},
   "source": [
    "for baris in range(3):\n",
    "    for kolom in range(3):\n",
    "        tambah = baris + kolom\n",
    "        print(\"{}+{}={}\".format(baris, kolom, tambah))\n",
    "    print()"
   ]
  },
  {
   "cell_type": "markdown",
   "metadata": {},
   "source": [
    "# Pendalaman Loop"
   ]
  },
  {
   "cell_type": "code",
   "execution_count": 3,
   "metadata": {},
   "outputs": [
    {
     "name": "stdout",
     "output_type": "stream",
     "text": [
      "Masukkan Banyak Pelanggan : 3\n",
      "\n",
      "Masukkan Data Pelanggan\n",
      "\n",
      "Nama : indra\n",
      "Umur : 19\n",
      "Nama : Odading\n",
      "Umur : 50\n",
      "Nama : Mang Olehhhh\n",
      "Umur : 22\n",
      "\n",
      "Pelanggan yang mendaftar adalah : \n",
      "indra = 19\n",
      "Odading = 50\n",
      "Mang Olehhhh = 22\n"
     ]
    }
   ],
   "source": [
    "banyak = int(input(\"Masukkan Banyak Pelanggan : \"))\n",
    "data_nama = []\n",
    "data_umur = []\n",
    "\n",
    "print(\"\\nMasukkan Data Pelanggan\\n\")\n",
    "for i in range(banyak):\n",
    "    nama = input(\"Nama : \")\n",
    "    umur = input(\"Umur : \")\n",
    "    data_nama.append(nama)\n",
    "    data_umur.append(umur)\n",
    "    \n",
    "print(\"\\nPelanggan yang mendaftar adalah : \")\n",
    "\n",
    "for x in range(len(data_nama)):\n",
    "    print(\"{} = {}\".format(data_nama[x], data_umur[x]))"
   ]
  },
  {
   "cell_type": "code",
   "execution_count": 4,
   "metadata": {},
   "outputs": [
    {
     "name": "stdout",
     "output_type": "stream",
     "text": [
      "1\n",
      "2\n",
      "3\n",
      "4\n",
      "5\n"
     ]
    }
   ],
   "source": [
    "i = 1\n",
    "while i < 6:\n",
    "    print(i)\n",
    "    i+=1"
   ]
  },
  {
   "cell_type": "markdown",
   "metadata": {},
   "source": [
    "# While True"
   ]
  },
  {
   "cell_type": "code",
   "execution_count": 5,
   "metadata": {},
   "outputs": [
    {
     "name": "stdout",
     "output_type": "stream",
     "text": [
      "Angka Pertama : 1\n",
      "Angka Kedua : 2\n",
      "Operasi : *\n",
      "Hasilnya : \n",
      "2\n"
     ]
    }
   ],
   "source": [
    "a = int(input(\"Angka Pertama : \"))\n",
    "b = int(input(\"Angka Kedua : \"))\n",
    "operasi = input(\"Operasi : \")\n",
    "print (\"Hasilnya : \")\n",
    "if operasi == \"+\":\n",
    "    hasil = a + b\n",
    "    print (hasil)\n",
    "elif operasi == \"-\":\n",
    "    hasil = a - b\n",
    "    print (hasil)\n",
    "elif operasi == \"*\":\n",
    "    hasil = a * b\n",
    "    print (hasil)\n",
    "elif operasi == \"/\":\n",
    "    hasil = a / b\n",
    "    print (hasil)\n",
    "else :\n",
    "    print(\"Input yang anda masukkan salah\")"
   ]
  },
  {
   "cell_type": "code",
   "execution_count": 7,
   "metadata": {},
   "outputs": [
    {
     "name": "stdout",
     "output_type": "stream",
     "text": [
      "Angka Pertama : 4\n",
      "Angka Kedua : 5\n",
      "Operasi : *\n",
      "Hasilnya : \n",
      "20\n",
      "Angka Pertama : 3\n",
      "Angka Kedua : 4\n",
      "Operasi : selesai\n",
      "Hasilnya : \n",
      "Terimakasih\n"
     ]
    }
   ],
   "source": [
    "#dengan While True\n",
    "\n",
    "while True:\n",
    "    a = int(input(\"Angka Pertama : \"))\n",
    "    b = int(input(\"Angka Kedua : \"))\n",
    "    operasi = input(\"Operasi : \")\n",
    "    print (\"Hasilnya : \")\n",
    "    if operasi == \"+\":\n",
    "        hasil = a + b\n",
    "        print (hasil)\n",
    "    elif operasi == \"-\":\n",
    "        hasil = a - b\n",
    "        print (hasil)\n",
    "    elif operasi == \"*\":\n",
    "        hasil = a * b\n",
    "        print (hasil)\n",
    "    elif operasi == \"/\":\n",
    "        hasil = a / b\n",
    "        print (hasil)\n",
    "    elif operasi == \"selesai\":\n",
    "        print (\"Terimakasih\")\n",
    "        break\n",
    "    else :\n",
    "        print(\"Input yang anda masukkan salah\")"
   ]
  },
  {
   "cell_type": "code",
   "execution_count": null,
   "metadata": {},
   "outputs": [],
   "source": [
    "banyak = int(input(\"Masukkan Angka : \"))\n",
    "\n",
    "while banyak >= 0:\n",
    "    "
   ]
  }
 ],
 "metadata": {
  "kernelspec": {
   "display_name": "Python 3",
   "language": "python",
   "name": "python3"
  }
 },
 "nbformat": 4,
 "nbformat_minor": 4
}
