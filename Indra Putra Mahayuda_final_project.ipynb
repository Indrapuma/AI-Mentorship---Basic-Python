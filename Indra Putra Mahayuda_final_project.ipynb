{
 "cells": [
  {
   "cell_type": "code",
   "execution_count": null,
   "metadata": {},
   "outputs": [
    {
     "name": "stdout",
     "output_type": "stream",
     "text": [
      "Selamat Datang di MailSend\n",
      "Program ini digunakan untuk mengirimkan email ke banyak alamat\n"
     ]
    }
   ],
   "source": [
    "import smtplib\n",
    "from getpass import getpass\n",
    "from email.mime.multipart import MIMEMultipart\n",
    "from email.mime.text import MIMEText\n",
    "\n",
    "#List Email\n",
    "daftar_email = []\n",
    "\n",
    "def show_menu() :\n",
    "    print(\"Silakan pilih menu berikut : \")\n",
    "    print(\"1. Tambah Alamat\")\n",
    "    print(\"2. Daftar Alamat\")\n",
    "    print(\"3. Kirim Email\")\n",
    "    print(\"4. Keluar\")\n",
    "\n",
    "def tambah_email() : \n",
    "    print(\"-------------------------------------\")\n",
    "    alamat = input(\"Masukkan Alamat Email penerima : \")\n",
    "    email = {\n",
    "        \"alamat\" : alamat\n",
    "    }\n",
    "    daftar_email.append(email)\n",
    "\n",
    "def tampilkan_email():\n",
    "    print(\"-------------------------------------\")\n",
    "    print(\"Berikut adalah daftar penerima : \")\n",
    "    if not daftar_email:\n",
    "        print(\"Belum ada alamat email yang terdaftar\")\n",
    "    else:\n",
    "        f = open(\"receiver_list.txt\", \"r\")\n",
    "        print(f.read())\n",
    "    \n",
    "def create_email():\n",
    "    f = open(\"receiver_list.txt\", \"w\")\n",
    "    for email in daftar_email:\n",
    "        f.write(\"{}\\n\".format(email[\"alamat\"]))\n",
    "    f.close()\n",
    "\n",
    "def kirim_email(pengirim, password):\n",
    "    print(\"Email akan dikirim ke : \")\n",
    "    f = open(\"receiver_list.txt\", \"r\")\n",
    "    print(f.read())\n",
    "    isi_subject = input(\"Tuliskan Subject : \")\n",
    "    isi_pesan = input(\"Masukkan pesan : \")\n",
    "    for email in daftar_email: \n",
    "        penerima = email[\"alamat\"]\n",
    "        msg = MIMEMultipart()\n",
    "        msg['From'] = pengirim\n",
    "        msg['To'] = penerima\n",
    "        msg['Subject'] = isi_subject\n",
    "\n",
    "        body = isi_pesan\n",
    "        msg.attach(MIMEText(body, 'plain'))\n",
    "        server = smtplib.SMTP('smtp.gmail.com', 587)\n",
    "        server.starttls()\n",
    "        server.login(pengirim, password)\n",
    "        text = msg.as_string()\n",
    "        server.sendmail(pengirim, penerima, text)\n",
    "        server.quit()\n",
    "        print (\"Email telah dikirim ke %s:\" % (msg['To']))\n",
    "\n",
    "while True :\n",
    "    print(\"Selamat Datang di MailSend\")\n",
    "    print(\"Program ini digunakan untuk mengirimkan email ke banyak alamat\")\n",
    "    fromaddr = input(\"Masukkan Email Pengirim : \")\n",
    "    password = getpass(\"Masukkan Password : \")\n",
    "    print(\"=============================================\\n\")\n",
    "    while True :\n",
    "        print(\"==========================================\")\n",
    "        show_menu()\n",
    "        menu = int(input(\"Pilih Menu (hanya angka) : \"))\n",
    "        if menu == 1:\n",
    "            tambah_email()\n",
    "            create_email()\n",
    "        elif menu == 2:\n",
    "            tampilkan_email()\n",
    "        elif menu == 3:\n",
    "            kirim_email(fromaddr, password)\n",
    "        elif menu == 4:\n",
    "            print(\"Program telah selesai\")\n",
    "            break\n",
    "        else:\n",
    "            print(\"Menu tak tersedia\")\n",
    "    break\n"
   ]
  },
  {
   "cell_type": "code",
   "execution_count": null,
   "metadata": {},
   "outputs": [],
   "source": []
  },
  {
   "cell_type": "code",
   "execution_count": null,
   "metadata": {},
   "outputs": [],
   "source": [
    "\n"
   ]
  },
  {
   "cell_type": "code",
   "execution_count": null,
   "metadata": {},
   "outputs": [],
   "source": []
  },
  {
   "cell_type": "code",
   "execution_count": null,
   "metadata": {},
   "outputs": [],
   "source": []
  }
 ],
 "metadata": {
  "kernelspec": {
   "display_name": "Python 3",
   "language": "python",
   "name": "python3"
  },
  "language_info": {
   "codemirror_mode": {
    "name": "ipython",
    "version": 3
   },
   "file_extension": ".py",
   "mimetype": "text/x-python",
   "name": "python",
   "nbconvert_exporter": "python",
   "pygments_lexer": "ipython3",
   "version": "3.8.5"
  }
 },
 "nbformat": 4,
 "nbformat_minor": 4
}
