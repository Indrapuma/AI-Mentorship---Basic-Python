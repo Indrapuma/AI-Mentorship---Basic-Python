{
 "cells": [
  {
   "cell_type": "code",
   "execution_count": 9,
   "metadata": {},
   "outputs": [],
   "source": [
    "#https://www.linkedin.com/in/tita-aprilliawati-288569154/\n",
    " #   Melanjutkan S2 di ITB\n",
    "#https://www.linkedin.com/in/georgius-bagas-ba2a481b8/"
   ]
  },
  {
   "cell_type": "markdown",
   "metadata": {},
   "source": [
    "# Dictionary"
   ]
  },
  {
   "cell_type": "code",
   "execution_count": 4,
   "metadata": {},
   "outputs": [
    {
     "name": "stdout",
     "output_type": "stream",
     "text": [
      "Nama = farhan\n",
      "Umur = 21\n"
     ]
    }
   ],
   "source": [
    "pelanggan = {\n",
    "    'nama' : 'farhan',\n",
    "    'umur' : 21\n",
    "}\n",
    "print ('Nama = {}'.format(pelanggan['nama']))\n",
    "print ('Umur = {}'.format(pelanggan['umur']))"
   ]
  },
  {
   "cell_type": "code",
   "execution_count": 5,
   "metadata": {},
   "outputs": [
    {
     "name": "stdout",
     "output_type": "stream",
     "text": [
      "Nama = {'nama': 'farhan', 'umur': 21}\n",
      "Umur = {'nama': 'farhan', 'umur': 21}\n"
     ]
    }
   ],
   "source": [
    "pelanggan = {\n",
    "    'nama' : 'farhan',\n",
    "    'umur' : 21\n",
    "}\n",
    "print ('Nama = {}'.format(pelanggan))\n",
    "print ('Umur = {}'.format(pelanggan))"
   ]
  },
  {
   "cell_type": "code",
   "execution_count": 15,
   "metadata": {},
   "outputs": [
    {
     "name": "stdout",
     "output_type": "stream",
     "text": [
      "Nama = {'nama': 'Indra', 'umur': 21}\n",
      "Umur = {'nama': 'Indra', 'umur': 21}\n"
     ]
    }
   ],
   "source": [
    "pelanggan2 = {\n",
    "    'nama' : 'Indra',\n",
    "    'umur' : 21\n",
    "}\n",
    "print ('Nama = {}'.format(pelanggan2))\n",
    "print ('Umur = {}'.format(pelanggan2))"
   ]
  },
  {
   "cell_type": "code",
   "execution_count": 6,
   "metadata": {},
   "outputs": [
    {
     "name": "stdout",
     "output_type": "stream",
     "text": [
      "{'nama': 'farhan', 'umur': 21}\n"
     ]
    }
   ],
   "source": [
    "print(pelanggan)"
   ]
  },
  {
   "cell_type": "code",
   "execution_count": 7,
   "metadata": {},
   "outputs": [
    {
     "name": "stdout",
     "output_type": "stream",
     "text": [
      "17\n"
     ]
    }
   ],
   "source": [
    "#mengganti Nilai di dalam dictionary\n",
    "pelanggan['umur'] = 17\n",
    "print (pelanggan ['umur']) "
   ]
  },
  {
   "cell_type": "code",
   "execution_count": 8,
   "metadata": {},
   "outputs": [
    {
     "name": "stdout",
     "output_type": "stream",
     "text": [
      "Nama = {'nama': 'farhan', 'umur': 17}\n",
      "Umur = {'nama': 'farhan', 'umur': 17}\n"
     ]
    }
   ],
   "source": [
    "print ('Nama = {}'.format(pelanggan))\n",
    "print ('Umur = {}'.format(pelanggan))"
   ]
  },
  {
   "cell_type": "code",
   "execution_count": 12,
   "metadata": {},
   "outputs": [
    {
     "name": "stdout",
     "output_type": "stream",
     "text": [
      "nama:\n",
      "farhan\n",
      "umur:\n",
      "17\n"
     ]
    }
   ],
   "source": [
    "#Loop untuk dictionary\n",
    "for x in pelanggan:\n",
    "    print(\"{}:\".format(x))\n",
    "    print(pelanggan[x])"
   ]
  },
  {
   "cell_type": "code",
   "execution_count": 20,
   "metadata": {},
   "outputs": [
    {
     "name": "stdout",
     "output_type": "stream",
     "text": [
      "Nama: farhan\n",
      "Umur: 17\n",
      "Nama: Indra\n",
      "Umur: 21\n"
     ]
    }
   ],
   "source": [
    "# list Dictionary\n",
    "daftar_pelanggan = []\n",
    "daftar_pelanggan.append(pelanggan)\n",
    "daftar_pelanggan.append(pelanggan2)\n",
    "\n",
    "for i in daftar_pelanggan :\n",
    "    print('Nama: {}'.format(i['nama']))\n",
    "    print('Umur: {}'.format(i['umur']))"
   ]
  },
  {
   "cell_type": "code",
   "execution_count": 22,
   "metadata": {},
   "outputs": [
    {
     "name": "stdout",
     "output_type": "stream",
     "text": [
      "{}\n"
     ]
    }
   ],
   "source": [
    "# menghapus Nilai di dalam dictionary\n",
    "# Menggunakan clear : menghapus semua entry\n",
    "data = {'Nama' : 'Indra', 'Umur' : 25, 'Kelas' : 'Basic Python'}\n",
    "data.clear() #menghapus semua entry di dalam dictionary\n",
    "print(data)"
   ]
  },
  {
   "cell_type": "code",
   "execution_count": 27,
   "metadata": {},
   "outputs": [
    {
     "name": "stdout",
     "output_type": "stream",
     "text": [
      "{'Umur': 25, 'Kelas': 'Basic Python'}\n"
     ]
    }
   ],
   "source": [
    "# Menggunakan del\n",
    "data = {'Nama' : 'Indra', 'Umur' : 25, 'Kelas' : 'Basic Python'}\n",
    "del data['Nama'] #menghapus entry di dalam dictionary key 'Nama'\n",
    "print(data)"
   ]
  },
  {
   "cell_type": "code",
   "execution_count": 29,
   "metadata": {},
   "outputs": [
    {
     "ename": "SyntaxError",
     "evalue": "cannot delete function call (<ipython-input-29-570311a9d1b8>, line 2)",
     "output_type": "error",
     "traceback": [
      "\u001b[1;36m  File \u001b[1;32m\"<ipython-input-29-570311a9d1b8>\"\u001b[1;36m, line \u001b[1;32m2\u001b[0m\n\u001b[1;33m    del data()\u001b[0m\n\u001b[1;37m        ^\u001b[0m\n\u001b[1;31mSyntaxError\u001b[0m\u001b[1;31m:\u001b[0m cannot delete function call\n"
     ]
    }
   ],
   "source": [
    "data = {'Nama' : 'Indra', 'Umur' : 25, 'Kelas' : 'Basic Python'}\n",
    "del data()\n",
    "print(data)"
   ]
  },
  {
   "cell_type": "code",
   "execution_count": 32,
   "metadata": {},
   "outputs": [
    {
     "name": "stdout",
     "output_type": "stream",
     "text": [
      "Indra 25\n"
     ]
    }
   ],
   "source": [
    "#mengambil beberapa key di dalam dictionary\n",
    "data = {'Nama' : 'Indra', 'Umur' : 25, 'Kelas' : 'Basic Python'}\n",
    "print(data['Nama'], data['Umur'])"
   ]
  },
  {
   "cell_type": "markdown",
   "metadata": {},
   "source": [
    "# Function"
   ]
  },
  {
   "cell_type": "code",
   "execution_count": 33,
   "metadata": {},
   "outputs": [
    {
     "name": "stdout",
     "output_type": "stream",
     "text": [
      "Hallo, ini hanya coba coba\n",
      "Jangan diseriusin\n"
     ]
    }
   ],
   "source": [
    "def coba_fungsi() :\n",
    "    print(\"Hallo, ini hanya coba coba\")\n",
    "def serius() :\n",
    "    print(\"Jangan diseriusin\")\n",
    "coba_fungsi()\n",
    "serius()"
   ]
  },
  {
   "cell_type": "code",
   "execution_count": 35,
   "metadata": {},
   "outputs": [
    {
     "name": "stdout",
     "output_type": "stream",
     "text": [
      "Siapa Namamu : Indra\n",
      "Perkenalkan nama saya Indra\n"
     ]
    }
   ],
   "source": [
    "def coba_parameter(nama):\n",
    "    print(\"Perkenalkan nama saya \" + nama)\n",
    "jeneng = input(\"Siapa Namamu : \")\n",
    "coba_parameter(jeneng)"
   ]
  },
  {
   "cell_type": "code",
   "execution_count": 39,
   "metadata": {},
   "outputs": [
    {
     "name": "stdout",
     "output_type": "stream",
     "text": [
      "Hallo Indra Putra\n",
      "Hallo Maha Yuda\n"
     ]
    }
   ],
   "source": [
    "def fungsiku(first_name, last_name=' '): #last_name nya telah diinisialisasi\n",
    "    print(\"Hallo {} {}\".format(first_name, last_name))\n",
    "fungsiku('Indra', 'Putra')\n",
    "fungsiku('Maha', 'Yuda')"
   ]
  },
  {
   "cell_type": "code",
   "execution_count": 42,
   "metadata": {},
   "outputs": [
    {
     "name": "stdout",
     "output_type": "stream",
     "text": [
      "Makanan favoritku adalah  Pecel\n",
      "Makanan favoritku adalah  Rawon\n"
     ]
    }
   ],
   "source": [
    "#Function - Keyword parameter\n",
    "def fungsi1(pilihan3, pilihan2, pilihan1):\n",
    "    print(\"Makanan favoritku adalah \", pilihan3)\n",
    "fungsi1(pilihan1 = 'Sate', pilihan2 = 'Soto', pilihan3 = 'Pecel') #Value sesuai dengan parameter yang diinisialisasi\n",
    "fungsi1('Rawon','Geprek', 'Mie Ayam') #urutan sesuai dengan parameter di fungsi asal"
   ]
  },
  {
   "cell_type": "code",
   "execution_count": 65,
   "metadata": {},
   "outputs": [
    {
     "name": "stdout",
     "output_type": "stream",
     "text": [
      "Kangkung\n",
      "\n",
      "Kangkung\n",
      "\n",
      "Terung\n",
      "\n",
      "Kangkung\n",
      "\n",
      "Terung\n",
      "\n",
      "Tomat\n",
      "\n"
     ]
    }
   ],
   "source": [
    "#Example function\n",
    "nama_sayur = []\n",
    "def tambah_nama_sayur (nama):\n",
    "    nama_sayur.append(nama)\n",
    "    print_nama_sayur()\n",
    "def print_nama_sayur():\n",
    "    for y in nama_sayur:\n",
    "        print(\"{}\\n\".format(y))\n",
    "tambah_nama_sayur(\"Kangkung\")\n",
    "tambah_nama_sayur(\"Terung\")\n",
    "tambah_nama_sayur(\"Tomat\")"
   ]
  },
  {
   "cell_type": "markdown",
   "metadata": {},
   "source": [
    "# Pendalaman Function\n"
   ]
  },
  {
   "cell_type": "markdown",
   "metadata": {},
   "source": [
    "#Buatlah charbot menu curhat dengan function"
   ]
  },
  {
   "cell_type": "code",
   "execution_count": 57,
   "metadata": {},
   "outputs": [
    {
     "name": "stdout",
     "output_type": "stream",
     "text": [
      "Hay, aku AIs, asisten virtual pertamamu\n",
      "Siapa Namamu?\n",
      "\n",
      "Masukkan nama : Indra\n",
      "Salam kenal Indra\n",
      "Apa ada yang bisa saya bantu?\n",
      " \n",
      "Silahkan pilih menu yang aku berikan\n",
      "1. Menemani curhatmu\n",
      "2. Keluar\n",
      "Pilihannya angka saja ya : 2\n",
      "Oke, sampai jumpa\n",
      "======================\n"
     ]
    }
   ],
   "source": [
    "#menu awal\n",
    "\n",
    "def show_menu():\n",
    "    print(\"Silahkan pilih menu yang aku berikan\")\n",
    "    print(\"1. Menemani curhatmu\")\n",
    "    print(\"2. Keluar\")\n",
    "    \n",
    "#pengantar\n",
    "print(\"Hay, aku AIs, asisten virtual pertamamu\")\n",
    "print(\"Siapa Namamu?\")\n",
    "\n",
    "nama = input(\"\\nMasukkan nama : \")\n",
    "\n",
    "print(\"Salam kenal {}\".format(nama))\n",
    "print(\"Apa ada yang bisa saya bantu?\")\n",
    "\n",
    "#Memunculkan menu awal\n",
    "while True:\n",
    "    print(\" \")\n",
    "    show_menu()\n",
    "    menu_awal = input(\"Pilihannya angka saja ya : \")\n",
    "    \n",
    "    if menu_awal == '1':\n",
    "        input(\"Coba ceritakan curhatmu : \")\n",
    "        while True:\n",
    "            cerita = input(\"coba ceritakan lebih banyak lagi: \")\n",
    "            if 'bodoh' in cerita or 'gagal' in cerita or 'kalah' in cerita or 'jelek' in cerita:\n",
    "                print(\"Mengapa kamu berpikir seperti itu\")\n",
    "            elif 'kecewa' in cerita or 'sedih' in cerita or 'putus asa' in cerita:\n",
    "                print(\"Sudah berapa lama kamu merasa seperti itu?\")\n",
    "            elif 'senang' in cerita or 'berhasil' in cerita or 'menang' in cerita or 'hadiah' in cerita:\n",
    "                print(\"Itu sangat menarik\")\n",
    "            else:\n",
    "                print(\"Oke, Tetap semangat ya!\")\n",
    "                break\n",
    "    elif menu_awal == '2':\n",
    "        print(\"Oke, sampai jumpa\")\n",
    "        print(\"======================\")\n",
    "        break\n",
    "        \n",
    "    else:\n",
    "        print(\"Maaf, aku belum paham yang kamu mau\")"
   ]
  },
  {
   "cell_type": "markdown",
   "metadata": {},
   "source": [
    "# Return Value"
   ]
  },
  {
   "cell_type": "code",
   "execution_count": 64,
   "metadata": {},
   "outputs": [
    {
     "name": "stdout",
     "output_type": "stream",
     "text": [
      "19\n"
     ]
    }
   ],
   "source": [
    "def total (x,y):\n",
    "    hasil = x + y\n",
    "    return hasil\n",
    "jumlah = total(9,10)\n",
    "print(jumlah)"
   ]
  },
  {
   "cell_type": "code",
   "execution_count": 67,
   "metadata": {},
   "outputs": [
    {
     "name": "stdout",
     "output_type": "stream",
     "text": [
      "13\n"
     ]
    }
   ],
   "source": [
    "def total (x,y):\n",
    "    total = x + y\n",
    "    return total\n",
    "def total_sayur_sisa():\n",
    "    return 10\n",
    "total_sayur = len(nama_sayur) + total_sayur_sisa()\n",
    "print (total_sayur)"
   ]
  },
  {
   "cell_type": "code",
   "execution_count": 69,
   "metadata": {},
   "outputs": [
    {
     "name": "stdout",
     "output_type": "stream",
     "text": [
      "130.0\n"
     ]
    }
   ],
   "source": [
    "#Menghitung luas bangun datar\n",
    "def luas_persegi (sisi):\n",
    "    luas = sisi * sisi\n",
    "    return luas\n",
    "def luas_segitiga (alas, tinggi):\n",
    "    luas1 = alas * tinggi / 2\n",
    "    return luas1\n",
    "\n",
    "luas_bangun_1 = luas_persegi(10) + luas_segitiga(10,6)\n",
    "print (luas_bangun_1)"
   ]
  },
  {
   "cell_type": "code",
   "execution_count": null,
   "metadata": {},
   "outputs": [],
   "source": []
  }
 ],
 "metadata": {
  "kernelspec": {
   "display_name": "Python 3",
   "language": "python",
   "name": "python3"
  },
  "language_info": {
   "codemirror_mode": {
    "name": "ipython",
    "version": 3
   },
   "file_extension": ".py",
   "mimetype": "text/x-python",
   "name": "python",
   "nbconvert_exporter": "python",
   "pygments_lexer": "ipython3",
   "version": "3.8.5"
  }
 },
 "nbformat": 4,
 "nbformat_minor": 4
}
