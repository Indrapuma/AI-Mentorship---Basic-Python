{
 "cells": [
  {
   "cell_type": "markdown",
   "metadata": {},
   "source": [
    "# Module"
   ]
  },
  {
   "cell_type": "code",
   "execution_count": null,
   "metadata": {},
   "outputs": [],
   "source": [
    "def greeting (name):\n",
    "    print(\"Hello, \" + name)\n",
    "    \n",
    "greeting('Indra')"
   ]
  },
  {
   "cell_type": "code",
   "execution_count": null,
   "metadata": {},
   "outputs": [],
   "source": [
    "help()"
   ]
  },
  {
   "cell_type": "code",
   "execution_count": null,
   "metadata": {},
   "outputs": [],
   "source": [
    "help()\n"
   ]
  },
  {
   "cell_type": "code",
   "execution_count": null,
   "metadata": {},
   "outputs": [],
   "source": [
    "import datetime \n",
    "\n",
    "x = datetime.datetime.now()\n",
    "print(x)"
   ]
  },
  {
   "cell_type": "code",
   "execution_count": null,
   "metadata": {},
   "outputs": [],
   "source": [
    "print(x.year)"
   ]
  },
  {
   "cell_type": "code",
   "execution_count": null,
   "metadata": {},
   "outputs": [],
   "source": [
    "print(\"A = \" + x.strftime(\"%A\"))"
   ]
  },
  {
   "cell_type": "code",
   "execution_count": null,
   "metadata": {},
   "outputs": [],
   "source": [
    "print(\"a = \" + x.strftime(\"%a\"))"
   ]
  },
  {
   "cell_type": "code",
   "execution_count": null,
   "metadata": {},
   "outputs": [],
   "source": [
    "x = datetime.datetime.now()\n",
    "print(x)\n",
    "print(x.strftime(\"%d-%m-%Y\"))"
   ]
  },
  {
   "cell_type": "code",
   "execution_count": null,
   "metadata": {},
   "outputs": [],
   "source": [
    "hari = x.strftime(\"%A\")\n",
    "print(hari)"
   ]
  },
  {
   "cell_type": "code",
   "execution_count": null,
   "metadata": {},
   "outputs": [],
   "source": [
    "hari_ind = {\"Sunday\" : \"Minggu\", \"Monday\" : \"Senin\", \"Tuesday\" : \"Selasa\"}\n",
    "print(\"{}\".format(hari_ind[hari]))"
   ]
  },
  {
   "cell_type": "code",
   "execution_count": null,
   "metadata": {},
   "outputs": [],
   "source": [
    "import math\n",
    "\n",
    "x = math.pi\n",
    "print(x)"
   ]
  },
  {
   "cell_type": "code",
   "execution_count": null,
   "metadata": {},
   "outputs": [],
   "source": [
    "y = math.sqrt(125)\n",
    "print(y)"
   ]
  },
  {
   "cell_type": "code",
   "execution_count": null,
   "metadata": {},
   "outputs": [],
   "source": [
    "z = math.ceil(11.3)\n",
    "print(z)"
   ]
  },
  {
   "cell_type": "code",
   "execution_count": null,
   "metadata": {},
   "outputs": [],
   "source": [
    "q = math.floor(12.6)\n",
    "print(q)"
   ]
  },
  {
   "cell_type": "code",
   "execution_count": null,
   "metadata": {},
   "outputs": [],
   "source": [
    "a = math.fmod(10, 7)\n",
    "print(a)"
   ]
  },
  {
   "cell_type": "code",
   "execution_count": null,
   "metadata": {},
   "outputs": [],
   "source": [
    "help()"
   ]
  },
  {
   "cell_type": "code",
   "execution_count": null,
   "metadata": {},
   "outputs": [],
   "source": [
    "#create file\n",
    "#write & append\n",
    "\n",
    "f = open(\"Tes File Baru.txt\", \"a\")\n",
    "f.write(\"Menambahkan file\")\n",
    "f.close()"
   ]
  },
  {
   "cell_type": "code",
   "execution_count": null,
   "metadata": {},
   "outputs": [],
   "source": [
    "f = open(\"Tes File Baru.txt\", \"r\")\n",
    "print(f.read())"
   ]
  },
  {
   "cell_type": "code",
   "execution_count": null,
   "metadata": {},
   "outputs": [],
   "source": [
    "f = open(\"Tes File Baru.txt\", \"w\")\n",
    "f.write(\"Mencoba overwrite\\nOverwrite file baris ke-2\")\n",
    "f.close()"
   ]
  },
  {
   "cell_type": "code",
   "execution_count": null,
   "metadata": {},
   "outputs": [],
   "source": [
    "f = open(\"Tes File Baru.txt\", \"r\")\n",
    "print(f.read())"
   ]
  },
  {
   "cell_type": "code",
   "execution_count": null,
   "metadata": {},
   "outputs": [],
   "source": [
    "f = open(\"Tes File Baru.txt\", \"w\")\n",
    "f.close()"
   ]
  },
  {
   "cell_type": "code",
   "execution_count": null,
   "metadata": {},
   "outputs": [],
   "source": [
    "f = open(\"Tes File Baru.txt\", \"r\")"
   ]
  },
  {
   "cell_type": "code",
   "execution_count": null,
   "metadata": {},
   "outputs": [],
   "source": [
    "f = open(\"Tes File Baru.txt\", \"w\")\n",
    "f.write(\"Mencoba overwrite\\nOverwrite file baris ke-2\")\n",
    "f.close()"
   ]
  },
  {
   "cell_type": "code",
   "execution_count": null,
   "metadata": {},
   "outputs": [],
   "source": [
    "f = open(\"Tes File Baru.txt\", \"r\")\n",
    "print(f.read())"
   ]
  },
  {
   "cell_type": "code",
   "execution_count": null,
   "metadata": {},
   "outputs": [],
   "source": [
    "f = open(\"Tes File Baru.txt\", \"r\")\n",
    "print(f.readline(15))"
   ]
  },
  {
   "cell_type": "code",
   "execution_count": 1,
   "metadata": {},
   "outputs": [],
   "source": [
    "import os\n",
    "\n",
    "os.remove(\"Tes File Baru.txt\")\n"
   ]
  },
  {
   "cell_type": "code",
   "execution_count": 2,
   "metadata": {},
   "outputs": [
    {
     "name": "stdout",
     "output_type": "stream",
     "text": [
      "file tidak ada\n"
     ]
    }
   ],
   "source": [
    "import os\n",
    "file_path = \"Tes File Baru.txt\"\n",
    "\n",
    "if os.path.exists(file_path):\n",
    "    os.remove(file_path)\n",
    "    print(\"file\", file_path, \"deleted\")\n",
    "else:\n",
    "    print(\"file tidak ada\")"
   ]
  },
  {
   "cell_type": "code",
   "execution_count": 3,
   "metadata": {},
   "outputs": [
    {
     "name": "stdout",
     "output_type": "stream",
     "text": [
      "Selamat datang!\n",
      "\n",
      "--Menu--\n",
      "1. Daftar Kontak\n",
      "2. Tambah Kontak\n",
      "3. Keluar\n",
      "\n",
      "Pilih menu (hanya angka):1\n",
      "\n",
      "Daftar Kontak:\n",
      "Nama: Fawwaz\n",
      "Nomer Telepon: 08123456789\n",
      "Nama: John\n",
      "Nomer Telepon: 08987654321\n",
      "\n",
      "--Menu--\n",
      "1. Daftar Kontak\n",
      "2. Tambah Kontak\n",
      "3. Keluar\n",
      "\n",
      "Pilih menu (hanya angka):1\n",
      "\n",
      "Daftar Kontak:\n",
      "Nama: Fawwaz\n",
      "Nomer Telepon: 08123456789\n",
      "Nama: John\n",
      "Nomer Telepon: 08987654321\n",
      "\n",
      "--Menu--\n",
      "1. Daftar Kontak\n",
      "2. Tambah Kontak\n",
      "3. Keluar\n",
      "\n",
      "Pilih menu (hanya angka):2\n",
      "Nama : Indra\n",
      "Nomer Telepon : 085\n",
      "\n",
      "===========================\n",
      "Kontak berhasil ditambahkan\n",
      "===========================\n",
      "\n",
      "--Menu--\n",
      "1. Daftar Kontak\n",
      "2. Tambah Kontak\n",
      "3. Keluar\n",
      "\n",
      "Pilih menu (hanya angka):1\n",
      "\n",
      "Daftar Kontak:\n",
      "Nama: Fawwaz\n",
      "Nomer Telepon: 08123456789\n",
      "Nama: John\n",
      "Nomer Telepon: 08987654321\n",
      "Nama: Indra\n",
      "Nomer Telepon: 085\n",
      "\n",
      "--Menu--\n",
      "1. Daftar Kontak\n",
      "2. Tambah Kontak\n",
      "3. Keluar\n",
      "\n",
      "Pilih menu (hanya angka):3\n",
      "\n",
      "Program selesai, sampai jumpa!\n",
      "=================================\n"
     ]
    }
   ],
   "source": [
    "\n",
    "# mencoba file handling\n",
    "\n",
    "print (\"Selamat datang!\")\n",
    "\n",
    "nama_kontak = [\"Fawwaz\", \"John\"]\n",
    "nomer_kontak = [\"08123456789\",\"08987654321\"]\n",
    "\n",
    "def show_menu():\n",
    "    print (\"\\n--Menu--\")\n",
    "    print (\"1. Daftar Kontak\")\n",
    "    print (\"2. Tambah Kontak\")\n",
    "    print (\"3. Keluar\")\n",
    "\n",
    "def tampilkan_kontak():\n",
    "    print(\"\\nDaftar Kontak:\")\n",
    "    for i in range(len(nama_kontak)):\n",
    "        print(\"Nama: {}\".format(nama_kontak[i]))\n",
    "        print(\"Nomer Telepon: {}\".format(nomer_kontak[i]))\n",
    "    \n",
    "def tambah_kontak():\n",
    "    nama = input(\"Nama : \")\n",
    "    nomer = str(input(\"Nomer Telepon : \"))\n",
    "    nama_kontak.append(nama)\n",
    "    nomer_kontak.append(nomer)\n",
    "    print(\"\\n===========================\")\n",
    "    print(\"Kontak berhasil ditambahkan\")\n",
    "    print(\"===========================\")\n",
    "\n",
    "def create_contact():\n",
    "    f = open(\"Daftar kontak.txt\", \"w\")\n",
    "    for x in range(len(nama_kontak)):\n",
    "        f.write(\"Nama: {} \\nNomor Telepon: {}\\n\".format(nama_kontak[x],nomer_kontak[x]))\n",
    "    f.close()\n",
    "    \n",
    "while True:\n",
    "    show_menu()\n",
    "    \n",
    "    menu = int(input(\"\\nPilih menu (hanya angka):\"))\n",
    "    \n",
    "    if menu == 1: \n",
    "        tampilkan_kontak()\n",
    "    elif menu == 2: \n",
    "        tambah_kontak()\n",
    "    elif menu == 3: \n",
    "        print(\"\\nProgram selesai, sampai jumpa!\")\n",
    "        print(\"=================================\")\n",
    "        create_contact()\n",
    "        break\n",
    "    else: \n",
    "        print (\"Menu tidak tersedia\")"
   ]
  },
  {
   "cell_type": "code",
   "execution_count": null,
   "metadata": {},
   "outputs": [],
   "source": []
  }
 ],
 "metadata": {
  "kernelspec": {
   "display_name": "Python 3",
   "language": "python",
   "name": "python3"
  },
  "language_info": {
   "codemirror_mode": {
    "name": "ipython",
    "version": 3
   },
   "file_extension": ".py",
   "mimetype": "text/x-python",
   "name": "python",
   "nbconvert_exporter": "python",
   "pygments_lexer": "ipython3",
   "version": "3.8.5"
  }
 },
 "nbformat": 4,
 "nbformat_minor": 4
}
